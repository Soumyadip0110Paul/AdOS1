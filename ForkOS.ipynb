{
 "cells": [
  {
   "cell_type": "code",
   "execution_count": 32,
   "metadata": {},
   "outputs": [
    {
     "name": "stdout",
     "output_type": "stream",
     "text": [
      "\n",
      "Parent's process ID:3328\n",
      "Child's process ID: 16872\n"
     ]
    }
   ],
   "source": [
    "import os\n",
    "import multiprocessing  \n",
    "def print_process_info(pid_type):\n",
    "    print(f\"\\n{pid_type}'s process ID:{os.getpid()}\")\n",
    "    if pid_type == \"Parent\":\n",
    "        print(f\"Child's process ID: {pid}\")\n",
    "    else:\n",
    "        print(f\"Parent's process ID: {os.getppid()}\")\n",
    "\n",
    "\n",
    "if __name__ == \"__main__\":\n",
    "    if os.name == 'posix':\n",
    "        pid = os.fork()  \n",
    "    else:\n",
    "        p = multiprocessing.Process(target=print_process_info, args=[\"Child\"])  \n",
    "        p.start()\n",
    "        pid = p.pid\n",
    "\n",
    "    if pid > 0:\n",
    "        print_process_info(\"Parent\")\n",
    "    else:\n",
    "        print_process_info(\"Child\") \n"
   ]
  },
  {
   "cell_type": "code",
   "execution_count": 14,
   "metadata": {},
   "outputs": [
    {
     "name": "stdout",
     "output_type": "stream",
     "text": [
      "2024-04-09 15:09:24.584715\n"
     ]
    }
   ],
   "source": [
    "import datetime\n",
    "\n",
    "x = datetime.datetime.now()\n",
    "\n",
    "print(x)"
   ]
  },
  {
   "cell_type": "code",
   "execution_count": 13,
   "metadata": {},
   "outputs": [
    {
     "name": "stdout",
     "output_type": "stream",
     "text": [
      "2024\n",
      "Tuesday\n"
     ]
    }
   ],
   "source": [
    "import datetime\n",
    "\n",
    "x = datetime.datetime.now()\n",
    "\n",
    "print(x.year)\n",
    "print(x.strftime(\"%A\"))"
   ]
  },
  {
   "cell_type": "code",
   "execution_count": 23,
   "metadata": {},
   "outputs": [
    {
     "name": "stdout",
     "output_type": "stream",
     "text": [
      "The calendar of year 2024 is : \n",
      "     April 2024\n",
      "Mo Tu We Th Fr Sa Su\n",
      " 1  2  3  4  5  6  7\n",
      " 8  9 10 11 12 13 14\n",
      "15 16 17 18 19 20 21\n",
      "22 23 24 25 26 27 28\n",
      "29 30\n",
      "\n"
     ]
    }
   ],
   "source": [
    "import calendar \n",
    "print (\"The calendar of year 2024 is : \") \n",
    "print (calendar.month(2024,4)) \n"
   ]
  },
  {
   "cell_type": "code",
   "execution_count": 27,
   "metadata": {},
   "outputs": [
    {
     "name": "stdout",
     "output_type": "stream",
     "text": [
      "     April 2024\n",
      "Mo Tu We Th Fr Sa Su\n",
      " 1  2  3  4  5  6  7\n",
      " 8  \u001b[92m9\u001b[0m 10 11 12 13 14\n",
      "15 16 17 18 19 20 21\n",
      "22 23 24 25 26 27 28\n",
      "29 30\n",
      "\n"
     ]
    }
   ],
   "source": [
    "from datetime import datetime\n",
    "import calendar\n",
    "\n",
    "curr_year = datetime.now().year\n",
    "curr_month = datetime.now().month\n",
    "curr_day = datetime.now().day\n",
    "\n",
    "#ANSI escape sequences for colors\n",
    "colored_day = '\\033[92m' + str(curr_day) + '\\033[0m'\n",
    "\n",
    "calendar_output = (calendar.month(curr_year, curr_month))\n",
    "\n",
    "#finds occurrences of today's digits inside the year string\n",
    "count_day_in_year = str(curr_year).count(str(curr_day))\n",
    "\n",
    "#changes today's digits color only in the right place\n",
    "if str(curr_day) in str(curr_year):\n",
    "  #paint day within year (first occurrence(s)) and one more occurrence (the curr. day)\n",
    "  highlighted_day = calendar_output.replace(str(curr_day), colored_day, count_day_in_year + 1)\n",
    "  #remove color of the first occurrence(s) in the year\n",
    "  highlighted_day = highlighted_day.replace('\\033[92m', '', count_day_in_year)\n",
    "  highlighted_day = highlighted_day.replace('\\033[0m', '', count_day_in_year)\n",
    "else:\n",
    "  highlighted_day = calendar_output.replace(str(curr_day), colored_day, 1)\n",
    "\n",
    "print(highlighted_day)"
   ]
  }
 ],
 "metadata": {
  "kernelspec": {
   "display_name": "machine-learning",
   "language": "python",
   "name": "python3"
  },
  "language_info": {
   "codemirror_mode": {
    "name": "ipython",
    "version": 3
   },
   "file_extension": ".py",
   "mimetype": "text/x-python",
   "name": "python",
   "nbconvert_exporter": "python",
   "pygments_lexer": "ipython3",
   "version": "3.12.1"
  }
 },
 "nbformat": 4,
 "nbformat_minor": 2
}
